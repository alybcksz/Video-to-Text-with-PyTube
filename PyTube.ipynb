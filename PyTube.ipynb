{
  "nbformat": 4,
  "nbformat_minor": 0,
  "metadata": {
    "colab": {
      "provenance": []
    },
    "kernelspec": {
      "name": "python3",
      "display_name": "Python 3"
    },
    "language_info": {
      "name": "python"
    }
  },
  "cells": [
    {
      "cell_type": "code",
      "execution_count": 1,
      "metadata": {
        "colab": {
          "base_uri": "https://localhost:8080/"
        },
        "id": "wNeqaiiiN4rC",
        "outputId": "40d16501-4f8c-4377-ccbf-a72cedaa5367"
      },
      "outputs": [
        {
          "output_type": "stream",
          "name": "stdout",
          "text": [
            "Looking in indexes: https://pypi.org/simple, https://us-python.pkg.dev/colab-wheels/public/simple/\n",
            "Requirement already satisfied: pytube in /usr/local/lib/python3.7/dist-packages (12.1.0)\n"
          ]
        }
      ],
      "source": [
        "!pip install pytube"
      ]
    },
    {
      "cell_type": "code",
      "source": [
        "import pytube"
      ],
      "metadata": {
        "id": "35jle6olOBdc"
      },
      "execution_count": 2,
      "outputs": []
    },
    {
      "cell_type": "code",
      "source": [
        "video = \"https://www.youtube.com/shorts/Mx2f2U9IqtA\""
      ],
      "metadata": {
        "id": "NMeR5GbBOEld"
      },
      "execution_count": 3,
      "outputs": []
    },
    {
      "cell_type": "code",
      "source": [
        "data = pytube.YouTube(video)"
      ],
      "metadata": {
        "id": "tgAFtEI6ONpq"
      },
      "execution_count": 4,
      "outputs": []
    },
    {
      "cell_type": "code",
      "source": [
        "audio = data.streams.get_audio_only()\n",
        "audio.download()\n"
      ],
      "metadata": {
        "colab": {
          "base_uri": "https://localhost:8080/",
          "height": 36
        },
        "id": "3ZYYUk0fOqOI",
        "outputId": "963a6da8-b386-4c55-b972-deeeb148b09f"
      },
      "execution_count": 5,
      "outputs": [
        {
          "output_type": "execute_result",
          "data": {
            "text/plain": [
              "'/content/Predict data using AI in Google sheets.mp4'"
            ],
            "application/vnd.google.colaboratory.intrinsic+json": {
              "type": "string"
            }
          },
          "metadata": {},
          "execution_count": 5
        }
      ]
    },
    {
      "cell_type": "code",
      "source": [
        "!pip install git+https://github.com/openai/whisper.git -q\n"
      ],
      "metadata": {
        "id": "CvVvwLpjO_Gw"
      },
      "execution_count": 6,
      "outputs": []
    },
    {
      "cell_type": "code",
      "source": [
        "import whisper\n"
      ],
      "metadata": {
        "id": "ItQtSFvKPGIx"
      },
      "execution_count": 7,
      "outputs": []
    },
    {
      "cell_type": "code",
      "source": [
        "model = whisper.load_model(\"large\")\n"
      ],
      "metadata": {
        "id": "ZUUwFQOxPKp-"
      },
      "execution_count": 8,
      "outputs": []
    },
    {
      "cell_type": "code",
      "source": [
        "text = model.transcribe(\"ai.mp4\")\n"
      ],
      "metadata": {
        "colab": {
          "base_uri": "https://localhost:8080/"
        },
        "id": "ypXGDyG8PRCl",
        "outputId": "a93dd8c5-4f3b-4d92-a98d-c65b328f1318"
      },
      "execution_count": 9,
      "outputs": [
        {
          "output_type": "stream",
          "name": "stderr",
          "text": [
            "/usr/local/lib/python3.7/dist-packages/whisper/transcribe.py:78: UserWarning: FP16 is not supported on CPU; using FP32 instead\n",
            "  warnings.warn(\"FP16 is not supported on CPU; using FP32 instead\")\n"
          ]
        }
      ]
    },
    {
      "cell_type": "code",
      "source": [
        "text['text']\n"
      ],
      "metadata": {
        "colab": {
          "base_uri": "https://localhost:8080/",
          "height": 165
        },
        "id": "UKVlbTxWPUoU",
        "outputId": "7dcb50d6-74fa-475d-e4a6-7a65f998fa37"
      },
      "execution_count": 10,
      "outputs": [
        {
          "output_type": "execute_result",
          "data": {
            "text/plain": [
              "\" This is a tough question. Is there a way to predict NBH results using AI without programming? Probably not, because if that was that easy then everybody would be doing it, but I'm gonna give you a few tools to start experimenting because I'll bet you can get further than you think. There's a crazy tool called Peltarion, at least I think that's how it's pronounced, and it's basically an AI tool that works without programming. So they have a bunch of AI models that you can just go ahead and use, and they have an integration with simple databases like Google Sheets. So AI for Sheets, it's Peltarion's Google Sheets add-on that lets you build and get predictions from the AI models built in the Peltarion platform. You just install it and then boom, you have AI prediction within Google Sheets. And so what I would do there is I would add as much NBA information as you can possibly add between teams, and then see what Peltarion starts to predict. Let me know if that makes sense and if you need any help.\""
            ],
            "application/vnd.google.colaboratory.intrinsic+json": {
              "type": "string"
            }
          },
          "metadata": {},
          "execution_count": 10
        }
      ]
    },
    {
      "cell_type": "code",
      "source": [],
      "metadata": {
        "id": "1i-PAMTgPCy8"
      },
      "execution_count": 10,
      "outputs": []
    }
  ]
}